{
 "cells": [
  {
   "cell_type": "code",
   "execution_count": 26,
   "metadata": {},
   "outputs": [],
   "source": [
    "from aip import AipImageClassify\n",
    "\n",
    "\"\"\" 你的 APPID AK SK \"\"\"\n",
    "#APP_ID = '你的ID'\n",
    "#API_KEY = '你的KEY'\n",
    "#SECRET_KEY = '你的secret_key'\n",
    "\n",
    "client = AipImageClassify(APP_ID, API_KEY, SECRET_KEY)"
   ]
  },
  {
   "cell_type": "code",
   "execution_count": 27,
   "metadata": {},
   "outputs": [
    {
     "name": "stdout",
     "output_type": "stream",
     "text": [
      "{'log_id': 808516010619870469, 'result': [{'score': '0.672494', 'name': '喜鹊'}, {'score': '0.29712', 'name': '白肩鹊鵙'}, {'score': '0.00189746', 'name': '红嘴蓝尾喜鹊'}, {'score': '0.00114717', 'name': '红嘴山雀'}, {'score': '0.000928023', 'name': '灰乌鸦'}, {'score': '0.000703607', 'name': '白颈乌鸦'}]}\n"
     ]
    }
   ],
   "source": [
    "#百度图像识别-动物识别\n",
    "\n",
    "def get_file_content(filePath):\n",
    "    with open(filePath, 'rb') as fp:\n",
    "        return fp.read()\n",
    "\n",
    "image = get_file_content('C:/Users/hp/Desktop/th.jpg')\n",
    "\n",
    "\n",
    "\n",
    "\"\"\" 调用动物识别 \"\"\"\n",
    "result = client.animalDetect(image)\n",
    "\"\"\" 读取识别相似度最高的结果 \"\"\"\n",
    "print(result)"
   ]
  },
  {
   "cell_type": "code",
   "execution_count": 28,
   "metadata": {},
   "outputs": [
    {
     "name": "stdout",
     "output_type": "stream",
     "text": [
      "{'log_id': 4857485682858228165, 'result': [{'score': 0.733403742313385, 'name': '胧月'}, {'score': 0.18283145129680634, 'name': '姬胧月'}, {'score': 0.024645816534757614, 'name': '初恋'}]}\n"
     ]
    }
   ],
   "source": [
    "#百度图像识别-植物识别\n",
    "def get_file_content(filePath):\n",
    "    with open(filePath, 'rb') as fp:\n",
    "        return fp.read()\n",
    "\n",
    "image = get_file_content('C:/Users/hp/Desktop/f.jpg')\n",
    "\n",
    "\n",
    "\n",
    "\"\"\" 调用植物识别 \"\"\"\n",
    "result = client.plantDetect(image)\n",
    "\"\"\" 读取识别相似度最高的结果 \"\"\"\n",
    "print(result)"
   ]
  },
  {
   "cell_type": "code",
   "execution_count": 29,
   "metadata": {},
   "outputs": [
    {
     "name": "stdout",
     "output_type": "stream",
     "text": [
      "{'log_id': 1745373532565437573, 'result_num': 5, 'result': [{'score': 0.9673586487770081, 'name': '荠菜'}, {'score': 0.03248734027147293, 'name': '非果蔬食材'}, {'score': 9.59769167820923e-05, 'name': '灰菜'}, {'score': 1.4316011402115691e-05, 'name': '牛蒡'}, {'score': 9.368544851895422e-06, 'name': '雪里蕻'}]}\n"
     ]
    }
   ],
   "source": [
    "#百度图像识别-果蔬识别\n",
    "def get_file_content(filePath):\n",
    "    with open(filePath, 'rb') as fp:\n",
    "        return fp.read()\n",
    "\n",
    "image = get_file_content('C:/Users/hp/Desktop/j1.jpg')\n",
    "\n",
    "\n",
    "\n",
    "\"\"\" 调用果蔬识别 \"\"\"\n",
    "result = client.ingredient(image)\n",
    "\"\"\" 读取识别相似度最高的结果 \"\"\"\n",
    "print(result)"
   ]
  },
  {
   "cell_type": "code",
   "execution_count": 30,
   "metadata": {},
   "outputs": [
    {
     "name": "stdout",
     "output_type": "stream",
     "text": [
      "{'log_id': 3642850390735113029, 'result_num': 5, 'result': [{'score': 0.9042799472808838, 'name': '番荔枝'}, {'score': 0.0946105495095253, 'name': '释迦'}, {'score': 0.0008769918931648135, 'name': '林檎'}, {'score': 3.0402736229007132e-05, 'name': '非洲角瓜'}, {'score': 2.649468297022395e-05, 'name': '刺角瓜'}]}\n"
     ]
    }
   ],
   "source": [
    "#百度图像识别-果蔬识别\n",
    "def get_file_content(filePath):\n",
    "    with open(filePath, 'rb') as fp:\n",
    "        return fp.read()\n",
    "\n",
    "image = get_file_content('C:/Users/hp/Desktop/g.jpg')\n",
    "\n",
    "\n",
    "\n",
    "\"\"\" 调用果蔬识别 \"\"\"\n",
    "result = client.ingredient(image)\n",
    "\"\"\" 读取识别相似度最高的结果 \"\"\"\n",
    "print(result)"
   ]
  },
  {
   "cell_type": "code",
   "execution_count": 31,
   "metadata": {},
   "outputs": [
    {
     "name": "stdout",
     "output_type": "stream",
     "text": [
      "{'log_id': 8991298979652848069, 'result_num': 5, 'result': [{'score': 0.829289, 'root': '公众人物', 'keyword': '李光洙'}, {'score': 0.671566, 'root': '非自然图像-彩色动漫', 'keyword': '卡通动漫人物'}, {'score': 0.422287, 'root': '非自然图像-文字图', 'keyword': '动感地带'}, {'score': 0.181767, 'root': '商品-绘画', 'keyword': '图画'}, {'score': 0.005691, 'root': '人物-人物特写', 'keyword': '人物特写'}]}\n"
     ]
    }
   ],
   "source": [
    "#百度图像识别-通用物体识别\n",
    "def get_file_content(filePath):\n",
    "    with open(filePath, 'rb') as fp:\n",
    "        return fp.read()\n",
    "\n",
    "image = get_file_content('C:/Users/hp/Desktop/r.jpg')\n",
    "\n",
    "\n",
    "\n",
    "\"\"\" 调用果蔬识别 \"\"\"\n",
    "result = client.advancedGeneral(image)\n",
    "\"\"\" 读取识别相似度最高的结果 \"\"\"\n",
    "print(result)"
   ]
  },
  {
   "cell_type": "code",
   "execution_count": null,
   "metadata": {},
   "outputs": [],
   "source": []
  }
 ],
 "metadata": {
  "kernelspec": {
   "display_name": "Python 3",
   "language": "python",
   "name": "python3"
  },
  "language_info": {
   "codemirror_mode": {
    "name": "ipython",
    "version": 3
   },
   "file_extension": ".py",
   "mimetype": "text/x-python",
   "name": "python",
   "nbconvert_exporter": "python",
   "pygments_lexer": "ipython3",
   "version": "3.6.5"
  }
 },
 "nbformat": 4,
 "nbformat_minor": 2
}
