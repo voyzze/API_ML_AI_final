{
 "cells": [
  {
   "cell_type": "code",
   "execution_count": null,
   "metadata": {},
   "outputs": [],
   "source": [
    "#百度图像识别api\n",
    "from aip import AipImageClassify\n",
    "\n",
    "\"\"\" 你的 APPID AK SK \"\"\"\n",
    "#APP_ID = '你的ID'\n",
    "#API_KEY = '你的KEY'\n",
    "#SECRET_KEY = '你的secret_key'\n",
    "\n",
    "client = AipImageClassify(APP_ID, API_KEY, SECRET_KEY)"
   ]
  },
  {
   "cell_type": "code",
   "execution_count": 19,
   "metadata": {},
   "outputs": [
    {
     "name": "stdout",
     "output_type": "stream",
     "text": [
      "{'log_id': 6414505273877273095, 'result': [{'score': '0.672494', 'name': '喜鹊'}, {'score': '0.29712', 'name': '白肩鹊鵙'}, {'score': '0.00189746', 'name': '红嘴蓝尾喜鹊'}, {'score': '0.00114717', 'name': '红嘴山雀'}, {'score': '0.000928023', 'name': '灰乌鸦'}, {'score': '0.000703607', 'name': '白颈乌鸦'}]}\n"
     ]
    }
   ],
   "source": [
    "def get_file_content(filePath):\n",
    "    with open(filePath, 'rb') as fp:\n",
    "        return fp.read()\n",
    "\n",
    "image = get_file_content('D:/作业！！！！！！！！！！！！！！！！！/大三/上/API/期末/th.jpg')\n",
    "\n",
    "\n",
    "\n",
    "\"\"\" 调用动物识别 \"\"\"\n",
    "result = client.animalDetect(image)\n",
    "\"\"\" 读取识别相似度最高的结果 \"\"\"\n",
    "print(result)"
   ]
  },
  {
   "cell_type": "code",
   "execution_count": null,
   "metadata": {},
   "outputs": [],
   "source": [
    "#阿里云图像识别api\n",
    "import urllib\n",
    "import datetime\n",
    "import base64\n",
    "import hmac\n",
    "import hashlib\n",
    "from hashlib import md5\n",
    "import json\n",
    "from urllib.parse import urlparse"
   ]
  },
  {
   "cell_type": "code",
   "execution_count": null,
   "metadata": {},
   "outputs": [],
   "source": [
    "def get_current_date():\n",
    "    date = datetime.datetime.strftime(datetime.datetime.utcnow(), \"%a, %d %b %Y %H:%M:%S GMT\")\n",
    "    return date\n",
    "def to_md5_base64(strBody):\n",
    "    hash = hashlib.md5()\n",
    "    hash.update(body.decode('utf-8'))\n",
    "    return hash.digest().decode('base64').strip()\n",
    "def to_sha1_base64(stringToSign, secret):\n",
    "    hmacsha1 = hmac.new(secret, stringToSign, hashlib.sha1)\n",
    "    return base64.b64decode(hmacsha1.digest())\n",
    "\n",
    "# options = {\n",
    "#     'url': '<请求的url>',\n",
    "#     'method': 'GET',\n",
    "#     'headers': {\n",
    "#         'accept': 'application/json',\n",
    "#         'content-type': 'application/json',\n",
    "#         'date': get_current_date(),  # 'Sat, 07 May 2016 08:19:52 GMT',  # get_current_date(),\n",
    "#         'authorization': ''\n",
    "#     }\n",
    "# }\n",
    "body = ''\n",
    "if 'body' in options:\n",
    "    body = options['body']\n",
    "print (body)\n",
    "bodymd5 = ''\n",
    "if not body == '':\n",
    "    bodymd5 = to_md5_base64(body)\n",
    "print (bodymd5)\n",
    "urlPath = urlparse(options['url'])\n",
    "if urlPath.query != '':\n",
    "    urlPath = urlPath.path + \"?\" + urlPath.query\n",
    "else:\n",
    "    urlPath = urlPath.path\n",
    "stringToSign = options['method'] + '\\n' + options['headers']['accept'] + '\\n' + bodymd5 + '\\n' + options['headers']['content-type'] + '\\n' + options['headers']['date'] + '\\n' + urlPath\n",
    "signature = to_sha1_base64(stringToSign, ak_secret)\n",
    "print (stringToSign)\n",
    "authHeader = 'Dataplus ' + ak_id + ':' + signature\n",
    "options['headers']['authorization'] = authHeader\n",
    "print (authHeader)\n",
    "request = None\n",
    "method = options['method']\n",
    "url = options['url']\n",
    "print (method)\n",
    "print (url)\n",
    "if 'GET' == method or 'DELETE' == method:\n",
    "    request = urllib2.Request(url)\n",
    "elif 'POST' == method or 'PUT' == method:\n",
    "    request = urllib2.Request(url, body)\n",
    "request.get_method = lambda: method\n",
    "for key, value in options['headers'].items():\n",
    "    request.add_header(key, value)\n",
    "try:\n",
    "    conn = urllib2.urlopen(request)\n",
    "    response = conn.read()\n",
    "    print (response)\n",
    "except urllib2.HTTPError.e:\n",
    "    print (e.read())\n",
    "    raise SystemExit(e)"
   ]
  },
  {
   "cell_type": "markdown",
   "metadata": {},
   "source": [
    "返回值tags输出，对应正常、性感、色情三个标签的输出分数，\n",
    "每个标签会输出“confidence”和“value”两个参数，value是标签名称，confidence是对应分数，范围0-100。\n",
    "输出标签数量最少1个，最多5个，如果某个类别标签未输出，则对应的confidence为零。"
   ]
  },
  {
   "cell_type": "code",
   "execution_count": null,
   "metadata": {},
   "outputs": [],
   "source": []
  }
 ],
 "metadata": {
  "kernelspec": {
   "display_name": "Python 3",
   "language": "python",
   "name": "python3"
  },
  "language_info": {
   "codemirror_mode": {
    "name": "ipython",
    "version": 3
   },
   "file_extension": ".py",
   "mimetype": "text/x-python",
   "name": "python",
   "nbconvert_exporter": "python",
   "pygments_lexer": "ipython3",
   "version": "3.6.5"
  }
 },
 "nbformat": 4,
 "nbformat_minor": 2
}
